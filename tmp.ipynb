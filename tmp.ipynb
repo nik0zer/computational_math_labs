{
 "cells": [
  {
   "cell_type": "code",
   "execution_count": 2,
   "metadata": {},
   "outputs": [
    {
     "data": {
      "text/plain": [
       "0.20527876091785893"
      ]
     },
     "execution_count": 2,
     "metadata": {},
     "output_type": "execute_result"
    }
   ],
   "source": [
    "\n",
    "\n",
    "import numpy as np\n",
    "\n",
    "def f(x):\n",
    "    return np.log(1 + x ** 2 / 3)\n",
    "\n",
    "x = np.linspace(-1, 1, 13)\n",
    "\n",
    "sum = f(x[0])\n",
    "for i in range(1, len(x) - 1):\n",
    "    sum += 2 * f(x[i])\n",
    "\n",
    "sum += f(x[len(x) - 1])\n",
    "\n",
    "sum *= 2 / (2 * 12)\n",
    "sum"
   ]
  }
 ],
 "metadata": {
  "kernelspec": {
   "display_name": "Python 3",
   "language": "python",
   "name": "python3"
  },
  "language_info": {
   "codemirror_mode": {
    "name": "ipython",
    "version": 3
   },
   "file_extension": ".py",
   "mimetype": "text/x-python",
   "name": "python",
   "nbconvert_exporter": "python",
   "pygments_lexer": "ipython3",
   "version": "3.10.12"
  }
 },
 "nbformat": 4,
 "nbformat_minor": 2
}
