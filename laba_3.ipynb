{
 "cells": [
  {
   "cell_type": "markdown",
   "metadata": {},
   "source": [
    "# Лаба 3"
   ]
  },
  {
   "cell_type": "markdown",
   "metadata": {},
   "source": [
    "### Решить нелинейное УРАВНЕНИЕ , на выбор из IV.12.4 (сборник Аристовой)\n",
    "a) $2x^2+ 5x – 3 = 0$   \n",
    "МПИ 1:  $\\:x_{n+1} = \\frac{3 - 2x_{n}^2}{5}$   \n",
    "МПИ 2:  $\\:x_{n+1} = -\\sqrt{\\frac{3 - 5x}{2}}$   \n",
    "корни: $(-3.5; -2.5), (0.25; 0.75)$"
   ]
  },
  {
   "cell_type": "code",
   "execution_count": 16,
   "metadata": {},
   "outputs": [
    {
     "data": {
      "text/plain": [
       "(0.5000000000001885, -2.999999999998566)"
      ]
     },
     "execution_count": 16,
     "metadata": {},
     "output_type": "execute_result"
    }
   ],
   "source": [
    "import numpy as np\n",
    "\n",
    "def MPI_1_1(x, k):\n",
    "    for i in range(k):\n",
    "        x = (3 - 2 * x ** 2) / 5\n",
    "    return x\n",
    "\n",
    "def MPI_1_2(x, k):\n",
    "    for i in range(k):\n",
    "        x = -1 * np.sqrt((3 - 5 * x) / 2)\n",
    "    return x\n",
    "\n",
    "\n",
    "MPI_1_1(0.65, 30), MPI_1_2(-2.65, 30)"
   ]
  }
 ],
 "metadata": {
  "kernelspec": {
   "display_name": "Python 3",
   "language": "python",
   "name": "python3"
  },
  "language_info": {
   "codemirror_mode": {
    "name": "ipython",
    "version": 3
   },
   "file_extension": ".py",
   "mimetype": "text/x-python",
   "name": "python",
   "nbconvert_exporter": "python",
   "pygments_lexer": "ipython3",
   "version": "3.10.12"
  }
 },
 "nbformat": 4,
 "nbformat_minor": 2
}
