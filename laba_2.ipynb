{
 "cells": [
  {
   "cell_type": "markdown",
   "metadata": {},
   "source": [
    "# Лаба 1\n",
    "### Условия:\n",
    "![Alt text](image.png)\n",
    "### Методы решения СЛАУ:   \n",
    "Прямые методы:   \n",
    "Метод Гаусса с выбором главного элемента/LU-разложение (если возможно).   \n",
    "Итерационные методы:   \n",
    "Метод Зейделя, Метод Якоби, Метод верхней релаксации   "
   ]
  },
  {
   "cell_type": "markdown",
   "metadata": {},
   "source": [
    "### Матрица:"
   ]
  },
  {
   "cell_type": "code",
   "execution_count": 47,
   "metadata": {},
   "outputs": [
    {
     "name": "stdout",
     "output_type": "stream",
     "text": [
      "[[ 10.   1.   1. ...   0.   0.   1.]\n",
      " [  1.  10.   1. ...   0.   0.   2.]\n",
      " [  1.   1.  10. ...   0.   0.   3.]\n",
      " ...\n",
      " [  0.   0.   0. ...   1.   1.  98.]\n",
      " [  0.   0.   0. ...  10.   1.  99.]\n",
      " [  0.   0.   0. ...   1.  10. 100.]]\n",
      "[[10.  1.  1. ...  0.  0.  0.]\n",
      " [ 1. 10.  1. ...  0.  0.  0.]\n",
      " [ 1.  1. 10. ...  0.  0.  0.]\n",
      " ...\n",
      " [ 0.  0.  0. ... 10.  1.  1.]\n",
      " [ 0.  0.  0. ...  1. 10.  1.]\n",
      " [ 0.  0.  0. ...  1.  1. 10.]]\n"
     ]
    }
   ],
   "source": [
    "import numpy as np\n",
    "import matplotlib.pyplot as plt\n",
    "matrix_with_b = np.array([[0.0] * 101] * 100)\n",
    "matrix_without_b = np.array([[0.0] * 100] * 100)\n",
    "\n",
    "for i in range(5):\n",
    "    for j in range(i + 5):\n",
    "        matrix_with_b[i][j] = 1\n",
    "\n",
    "for i in range(5, 97):\n",
    "    for j in range(i - 4, i + 5):\n",
    "        matrix_with_b[i][j] = 1\n",
    "\n",
    "for i in range(95, 100):\n",
    "    for j in range(i - 4, 100):\n",
    "        matrix_with_b[i][j] = 1\n",
    "\n",
    "for i in range(100):\n",
    "    matrix_with_b[i][100] = i + 1\n",
    "\n",
    "for i in range(100):\n",
    "    matrix_with_b[i][i] = 10\n",
    "\n",
    "\n",
    "for i in range(5):\n",
    "    for j in range(i + 5):\n",
    "        matrix_without_b[i][j] = 1\n",
    "\n",
    "for i in range(5, 97):\n",
    "    for j in range(i - 4, i + 5):\n",
    "        if(j < 100):\n",
    "            matrix_without_b[i][j] = 1\n",
    "\n",
    "for i in range(95, 100):\n",
    "    for j in range(i - 4, 100):\n",
    "        matrix_without_b[i][j] = 1\n",
    "\n",
    "for i in range(100):\n",
    "    matrix_without_b[i][i] = 10\n",
    "\n",
    "print(matrix_with_b)\n",
    "print(matrix_without_b)"
   ]
  },
  {
   "cell_type": "markdown",
   "metadata": {},
   "source": [
    "### Метод Гаусса с выбором главного элемента:"
   ]
  },
  {
   "cell_type": "code",
   "execution_count": 48,
   "metadata": {},
   "outputs": [],
   "source": [
    "\n",
    "def find_line_with_max_elem(x, num, n):\n",
    "    max_elem = 0\n",
    "    line = 0\n",
    "    for i in range(n, len(x)):\n",
    "        if max_elem < abs(x[i][num]):\n",
    "            max_elem = abs(x[i][num])\n",
    "            line = i\n",
    "    return line\n",
    "\n",
    "def scalar_multiply(A, i, x):\n",
    "    sum = 0.0\n",
    "    for j in range(len(A)):\n",
    "        sum += A[i][j] * x[j]\n",
    "    return sum\n",
    "\n",
    "def nevyazka(A_b, x):\n",
    "    y = np.array([0.0] * len(A_b))\n",
    "    for i in range(len(A_b)):\n",
    "        y[i] = scalar_multiply(A_b, i, x) - A_b[i][len(A_b)]\n",
    "    return y\n",
    "\n",
    "def Gauss_with_max_elem(A, n):\n",
    "    x = np.array([0.0] * n)\n",
    "\n",
    "    for i in range(n):\n",
    "        swap_line = find_line_with_max_elem(A, i, i)\n",
    "        A[[i, swap_line]] = A[[swap_line, i]]\n",
    "        for j in range(i + 1, n): #прямой ход\n",
    "            if(A[j][i] != 0):\n",
    "                coeff = A[j][i] / A[i][i]\n",
    "                A[j][i] = 0.0\n",
    "                for k in range(i + 1, n + 1):\n",
    "                    A[j][k] -= coeff * A[i][k]\n",
    "    for i in range(n - 1, -1, -1):\n",
    "            x[i] = (A[i][100] - scalar_multiply(A, i, x)) / A[i][i]\n",
    "    return x"
   ]
  },
  {
   "cell_type": "code",
   "execution_count": 49,
   "metadata": {},
   "outputs": [
    {
     "name": "stdout",
     "output_type": "stream",
     "text": [
      "Решение: [0.0229214  0.09689605 0.16487571 0.22670602 0.28230826 0.33422809\n",
      " 0.38818309 0.44352717 0.49957984 0.55564296 0.61130107 0.66677899\n",
      " 0.722232   0.77774012 0.83330511 0.88888183 0.94445003 1.00000675\n",
      " 1.05555813 1.11111052 1.16666527 1.22222144 1.27777775 1.3333336\n",
      " 1.38888909 1.44444449 1.49999996 1.55555551 1.61111109 1.66666667\n",
      " 1.72222223 1.77777778 1.83333333 1.88888889 1.94444444 2.\n",
      " 2.05555556 2.11111111 2.16666667 2.22222222 2.27777778 2.33333333\n",
      " 2.38888889 2.44444444 2.5        2.55555556 2.61111111 2.66666667\n",
      " 2.72222222 2.77777778 2.83333333 2.88888889 2.94444444 3.\n",
      " 3.05555555 3.11111111 3.16666667 3.22222222 3.27777778 3.33333334\n",
      " 3.38888888 3.44444442 3.49999998 3.55555557 3.61111119 3.6666668\n",
      " 3.72222225 3.77777748 3.8333327  3.88888846 3.94444536 4.00000287\n",
      " 4.05555861 4.11110933 4.16665466 4.22220464 4.27777582 4.33337627\n",
      " 4.38898044 4.44449555 4.4998623  4.55515455 4.61067178 4.66701868\n",
      " 4.72390386 4.78014559 4.83372121 4.88185838 4.93252886 4.99368677\n",
      " 5.072974   5.17743721 5.21098434 5.17348271 5.06656056 4.89355229\n",
      " 5.5799342  6.27004358 6.9559861  7.63004838]\n",
      "Невязка: [ 0.00000000e+00 -2.22044605e-16  4.44089210e-16  0.00000000e+00\n",
      "  8.88178420e-16  0.00000000e+00  0.00000000e+00  0.00000000e+00\n",
      "  0.00000000e+00  0.00000000e+00 -1.77635684e-15 -3.55271368e-15\n",
      " -1.77635684e-15 -1.77635684e-15  0.00000000e+00 -1.77635684e-15\n",
      "  3.55271368e-15  3.55271368e-15 -3.55271368e-15  0.00000000e+00\n",
      "  0.00000000e+00  0.00000000e+00  3.55271368e-15  0.00000000e+00\n",
      "  3.55271368e-15 -3.55271368e-15 -3.55271368e-15 -3.55271368e-15\n",
      " -3.55271368e-15  3.55271368e-15  0.00000000e+00  0.00000000e+00\n",
      "  0.00000000e+00  7.10542736e-15  0.00000000e+00  0.00000000e+00\n",
      "  0.00000000e+00  0.00000000e+00  0.00000000e+00  0.00000000e+00\n",
      "  7.10542736e-15 -7.10542736e-15  0.00000000e+00 -7.10542736e-15\n",
      "  7.10542736e-15  0.00000000e+00  0.00000000e+00  0.00000000e+00\n",
      "  0.00000000e+00 -7.10542736e-15  0.00000000e+00 -7.10542736e-15\n",
      "  0.00000000e+00 -7.10542736e-15 -7.10542736e-15  7.10542736e-15\n",
      " -7.10542736e-15  0.00000000e+00  7.10542736e-15 -7.10542736e-15\n",
      " -7.10542736e-15  0.00000000e+00  0.00000000e+00  0.00000000e+00\n",
      " -1.42108547e-14 -1.42108547e-14  0.00000000e+00 -1.42108547e-14\n",
      " -1.42108547e-14 -1.42108547e-14  0.00000000e+00  1.42108547e-14\n",
      "  0.00000000e+00  1.42108547e-14  0.00000000e+00 -1.42108547e-14\n",
      "  1.42108547e-14 -1.42108547e-14  0.00000000e+00 -1.42108547e-14\n",
      "  0.00000000e+00  0.00000000e+00  1.42108547e-14  0.00000000e+00\n",
      "  1.42108547e-14  0.00000000e+00 -1.42108547e-14  0.00000000e+00\n",
      "  0.00000000e+00  0.00000000e+00 -1.42108547e-14 -2.84217094e-14\n",
      " -2.84217094e-14  0.00000000e+00 -2.84217094e-14 -2.84217094e-14\n",
      "  0.00000000e+00 -1.42108547e-14 -1.42108547e-14  0.00000000e+00]\n"
     ]
    }
   ],
   "source": [
    "\n",
    "comp_matrix = matrix_with_b.copy()\n",
    "x = Gauss_with_max_elem(comp_matrix, len(comp_matrix))\n",
    "print(\"Решение:\", x)\n",
    "print(\"Невязка:\", nevyazka(matrix_with_b, x))\n"
   ]
  },
  {
   "cell_type": "markdown",
   "metadata": {},
   "source": [
    "### Метод LU разложения:"
   ]
  },
  {
   "cell_type": "code",
   "execution_count": 50,
   "metadata": {},
   "outputs": [
    {
     "name": "stdout",
     "output_type": "stream",
     "text": [
      "\n",
      "Решение:  [0.0229214  0.09689605 0.16487571 0.22670602 0.28230826 0.33422809\n",
      " 0.38818309 0.44352717 0.49957984 0.55564296 0.61130107 0.66677899\n",
      " 0.722232   0.77774012 0.83330511 0.88888183 0.94445003 1.00000675\n",
      " 1.05555813 1.11111052 1.16666527 1.22222144 1.27777775 1.3333336\n",
      " 1.38888909 1.44444449 1.49999996 1.55555551 1.61111109 1.66666667\n",
      " 1.72222223 1.77777778 1.83333333 1.88888889 1.94444444 2.\n",
      " 2.05555556 2.11111111 2.16666667 2.22222222 2.27777778 2.33333333\n",
      " 2.38888889 2.44444444 2.5        2.55555556 2.61111111 2.66666667\n",
      " 2.72222222 2.77777778 2.83333333 2.88888889 2.94444444 3.\n",
      " 3.05555555 3.11111111 3.16666667 3.22222222 3.27777778 3.33333334\n",
      " 3.38888888 3.44444442 3.49999998 3.55555557 3.61111119 3.6666668\n",
      " 3.72222225 3.77777748 3.8333327  3.88888846 3.94444536 4.00000287\n",
      " 4.05555861 4.11110933 4.16665466 4.22220464 4.27777582 4.33337627\n",
      " 4.38898044 4.44449555 4.4998623  4.55515455 4.61067178 4.66701868\n",
      " 4.72390386 4.78014559 4.83372121 4.88185838 4.93252886 4.99368677\n",
      " 5.072974   5.17743721 5.21098434 5.17348271 5.06656056 4.89355229\n",
      " 5.5799342  6.27004358 6.9559861  7.63004838]\n",
      "Невязка: [ 0.00000000e+00  0.00000000e+00  4.44089210e-16  0.00000000e+00\n",
      "  8.88178420e-16  1.77635684e-15  0.00000000e+00  0.00000000e+00\n",
      "  0.00000000e+00  0.00000000e+00  0.00000000e+00  1.77635684e-15\n",
      "  1.77635684e-15  1.77635684e-15  0.00000000e+00 -1.77635684e-15\n",
      "  0.00000000e+00  3.55271368e-15 -3.55271368e-15  0.00000000e+00\n",
      "  0.00000000e+00  0.00000000e+00  7.10542736e-15  3.55271368e-15\n",
      "  3.55271368e-15 -3.55271368e-15  0.00000000e+00 -3.55271368e-15\n",
      "  3.55271368e-15  0.00000000e+00  3.55271368e-15  0.00000000e+00\n",
      "  0.00000000e+00  0.00000000e+00  0.00000000e+00  0.00000000e+00\n",
      "  0.00000000e+00 -7.10542736e-15 -7.10542736e-15 -1.42108547e-14\n",
      " -7.10542736e-15 -7.10542736e-15  0.00000000e+00 -7.10542736e-15\n",
      "  0.00000000e+00 -1.42108547e-14  0.00000000e+00  7.10542736e-15\n",
      "  0.00000000e+00  0.00000000e+00  7.10542736e-15 -7.10542736e-15\n",
      "  0.00000000e+00 -7.10542736e-15 -7.10542736e-15  7.10542736e-15\n",
      " -7.10542736e-15  0.00000000e+00  7.10542736e-15 -7.10542736e-15\n",
      " -7.10542736e-15  0.00000000e+00  0.00000000e+00  0.00000000e+00\n",
      " -1.42108547e-14  0.00000000e+00  0.00000000e+00 -1.42108547e-14\n",
      " -1.42108547e-14 -1.42108547e-14 -1.42108547e-14 -1.42108547e-14\n",
      "  0.00000000e+00  0.00000000e+00  0.00000000e+00  0.00000000e+00\n",
      "  0.00000000e+00 -1.42108547e-14 -1.42108547e-14  0.00000000e+00\n",
      " -1.42108547e-14  0.00000000e+00  1.42108547e-14  0.00000000e+00\n",
      "  0.00000000e+00  0.00000000e+00  0.00000000e+00 -1.42108547e-14\n",
      "  0.00000000e+00  0.00000000e+00 -1.42108547e-14 -2.84217094e-14\n",
      " -1.42108547e-14 -1.42108547e-14 -1.42108547e-14 -1.42108547e-14\n",
      "  0.00000000e+00 -1.42108547e-14 -2.84217094e-14  0.00000000e+00]\n"
     ]
    }
   ],
   "source": [
    "\n",
    "\n",
    "def LU_decomposition(A, A_b):\n",
    "    x = np.array([0.0] * len(A))\n",
    "    y = np.array([0.0] * len(A))\n",
    "    l = np.array([[0.0] * len(A)] * len(A))\n",
    "    u = np.array([[0.0] * len(A)] * len(A))\n",
    "    \n",
    "    for i in range(len(A)):\n",
    "        l[i][i] = 1.0\n",
    "    for i in range(len(A)):\n",
    "        for j in range(len(A)):\n",
    "            if(i <= j):\n",
    "                sum = 0.0\n",
    "                for k in range(i):\n",
    "                    sum += l[i][k] * u[k][j]\n",
    "                u[i][j] = A[i][j] - sum\n",
    "            else:\n",
    "                sum = 0.0\n",
    "                for k in range(j):\n",
    "                    sum += l[i][k] * u[k][j]\n",
    "                l[i][j] = (A[i][j] - sum) / u[j][j]\n",
    "\n",
    "    for i in range(0, len(A)):\n",
    "            y[i] = (A_b[i][100] - scalar_multiply(l, i, y)) / l[i][i]\n",
    "    \n",
    "    for i in range(len(A) - 1, -1, -1):\n",
    "            x[i] = (y[i] - scalar_multiply(u, i, x)) / u[i][i]\n",
    "    \n",
    "    return x\n",
    "\n",
    "comp_matrix = matrix_without_b.copy()\n",
    "x = LU_decomposition(comp_matrix, matrix_with_b)\n",
    "print()\n",
    "print(\"Решение: \", x)\n",
    "print(\"Невязка:\", nevyazka(matrix_with_b, x))"
   ]
  },
  {
   "cell_type": "markdown",
   "metadata": {},
   "source": [
    "## Итерационные методы:"
   ]
  },
  {
   "cell_type": "markdown",
   "metadata": {},
   "source": [
    "### Метод Зейделя:"
   ]
  },
  {
   "cell_type": "code",
   "execution_count": 51,
   "metadata": {},
   "outputs": [
    {
     "name": "stdout",
     "output_type": "stream",
     "text": [
      "\n",
      "Решение:  [0.0229214  0.09689605 0.16487571 0.22670602 0.28230826 0.33422809\n",
      " 0.38818309 0.44352717 0.49957984 0.55564296 0.61130107 0.66677899\n",
      " 0.722232   0.77774012 0.83330511 0.88888183 0.94445003 1.00000675\n",
      " 1.05555813 1.11111052 1.16666527 1.22222144 1.27777775 1.3333336\n",
      " 1.38888909 1.44444449 1.49999996 1.55555551 1.61111109 1.66666667\n",
      " 1.72222223 1.77777778 1.83333333 1.88888889 1.94444444 2.\n",
      " 2.05555556 2.11111111 2.16666667 2.22222222 2.27777778 2.33333333\n",
      " 2.38888889 2.44444444 2.5        2.55555556 2.61111111 2.66666667\n",
      " 2.72222222 2.77777778 2.83333333 2.88888889 2.94444444 3.\n",
      " 3.05555555 3.11111111 3.16666667 3.22222222 3.27777778 3.33333334\n",
      " 3.38888888 3.44444442 3.49999998 3.55555557 3.61111119 3.6666668\n",
      " 3.72222225 3.77777748 3.8333327  3.88888846 3.94444536 4.00000287\n",
      " 4.05555861 4.11110933 4.16665466 4.22220464 4.27777582 4.33337627\n",
      " 4.38898044 4.44449555 4.4998623  4.55515455 4.61067178 4.66701868\n",
      " 4.72390386 4.78014559 4.83372121 4.88185838 4.93252886 4.99368677\n",
      " 5.072974   5.17743721 5.21098434 5.17348271 5.06656056 4.89355229\n",
      " 5.5799342  6.27004358 6.9559861  7.63004838]\n"
     ]
    },
    {
     "data": {
      "image/png": "[encoded data removed]",
      "text/plain": [
       "<Figure size 640x480 with 1 Axes>"
      ]
     },
     "metadata": {},
     "output_type": "display_data"
    }
   ],
   "source": [
    "def zeidel(A, A_b, k):\n",
    "    x = np.array([0.0] * len(A))\n",
    "    nevyazka_arr = np.array([0.0] * k)\n",
    "    \n",
    "    for l in range(k):\n",
    "        x_new = np.copy(x)\n",
    "        for i in range(len(A)):\n",
    "            s1 = sum(A[i][j] * x_new[j] for j in range(i))\n",
    "            s2 = sum(A[i][j] * x[j] for j in range(i + 1, len(A)))\n",
    "            x_new[i] = (A_b[i][len(A)] - s1 - s2) / A[i][i]\n",
    "\n",
    "        \n",
    "        x = x_new\n",
    "        nevyazka_arr[l] = max(nevyazka(A_b, x))\n",
    "    return x, nevyazka_arr\n",
    "\n",
    "comp_matrix = matrix_without_b.copy()\n",
    "x, nevyazka_arr = zeidel(comp_matrix, matrix_with_b, 40)\n",
    "\n",
    "x_axis = [0] * 40\n",
    "for i in range(40):\n",
    "    x_axis[i] = i\n",
    "\n",
    "plt.plot(x_axis, np.log10(nevyazka_arr))\n",
    "plt.xlabel(\"Итерация\")\n",
    "plt.ylabel(\"Порядок значения невязки\")\n",
    "\n",
    "print()\n",
    "print(\"Решение: \", x)"
   ]
  }
 ],
 "metadata": {
  "kernelspec": {
   "display_name": "Python 3",
   "language": "python",
   "name": "python3"
  },
  "language_info": {
   "codemirror_mode": {
    "name": "ipython",
    "version": 3
   },
   "file_extension": ".py",
   "mimetype": "text/x-python",
   "name": "python",
   "nbconvert_exporter": "python",
   "pygments_lexer": "ipython3",
   "version": "3.10.12"
  },
  "orig_nbformat": 4
 },
 "nbformat": 4,
 "nbformat_minor": 2
}
