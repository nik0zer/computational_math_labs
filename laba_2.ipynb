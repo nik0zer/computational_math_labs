{
 "cells": [
  {
   "cell_type": "markdown",
   "metadata": {},
   "source": [
    "# Лаба 1\n",
    "### Условия:\n",
    "![Alt text](image.png)\n",
    "### Методы решения СЛАУ:   \n",
    "Прямые методы:   \n",
    "Метод Гаусса с выбором главного элемента/LU-разложение (если возможно).   \n",
    "Итерационные методы:   \n",
    "Метод Зейделя, Метод Якоби, Метод верхней релаксации   "
   ]
  },
  {
   "cell_type": "markdown",
   "metadata": {},
   "source": [
    "### Матрица:"
   ]
  },
  {
   "cell_type": "code",
   "execution_count": 37,
   "metadata": {},
   "outputs": [
    {
     "data": {
      "text/plain": [
       "array([[ 10,   1,   1, ...,   0,   0,   1],\n",
       "       [  1,  10,   1, ...,   0,   0,   2],\n",
       "       [  1,   1,  10, ...,   0,   0,   3],\n",
       "       ...,\n",
       "       [  0,   0,   0, ...,   1,   1,  98],\n",
       "       [  0,   0,   0, ...,  10,   1,  99],\n",
       "       [  0,   0,   0, ...,   1,  10, 100]])"
      ]
     },
     "execution_count": 37,
     "metadata": {},
     "output_type": "execute_result"
    }
   ],
   "source": [
    "import numpy as np\n",
    "matrix = np.array([[0] * 101] * 100)\n",
    "\n",
    "for i in range(5):\n",
    "    for j in range(i + 5):\n",
    "        matrix[i][j] = 1\n",
    "\n",
    "for i in range(5, 97):\n",
    "    for j in range(i - 4, i + 5):\n",
    "        matrix[i][j] = 1\n",
    "\n",
    "for i in range(95, 100):\n",
    "    for j in range(i - 4, 100):\n",
    "        matrix[i][j] = 1\n",
    "\n",
    "for i in range(100):\n",
    "    matrix[i][100] = i + 1\n",
    "\n",
    "for i in range(100):\n",
    "    matrix[i][i] = 10\n",
    "\n",
    "matrix"
   ]
  },
  {
   "cell_type": "markdown",
   "metadata": {},
   "source": [
    "### Метод Гаусса с выбором главного элемента:"
   ]
  },
  {
   "cell_type": "code",
   "execution_count": 38,
   "metadata": {},
   "outputs": [],
   "source": [
    "def find_line_with_max_elem(x, num):\n",
    "    max_elem = x[0][num]\n",
    "    line = 0\n",
    "    for i in range(len(x)):\n",
    "        if max_elem < x[i][num]:\n",
    "            max_elem = x[i][num]\n",
    "            line = i\n",
    "            print(x[i][num], i)\n",
    "    return line\n",
    "\n",
    "def Gauss_with_max_elem(A):\n",
    "    x = np.array([0] * 100)\n",
    "    return x\n",
    "\n"
   ]
  }
 ],
 "metadata": {
  "kernelspec": {
   "display_name": "Python 3",
   "language": "python",
   "name": "python3"
  },
  "language_info": {
   "codemirror_mode": {
    "name": "ipython",
    "version": 3
   },
   "file_extension": ".py",
   "mimetype": "text/x-python",
   "name": "python",
   "nbconvert_exporter": "python",
   "pygments_lexer": "ipython3",
   "version": "3.8.10"
  },
  "orig_nbformat": 4
 },
 "nbformat": 4,
 "nbformat_minor": 2
}
